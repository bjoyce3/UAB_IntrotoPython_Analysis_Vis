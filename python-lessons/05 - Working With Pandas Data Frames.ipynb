{
 "cells": [
  {
   "cell_type": "markdown",
   "metadata": {},
   "source": [
    "# Working With Pandas Data Frames\n",
    "---"
   ]
  },
  {
   "cell_type": "markdown",
   "metadata": {},
   "source": [
    "* Import the pandas library as pd and read in the csv that we just wrote as a data frame using the `read_csv`."
   ]
  },
  {
   "cell_type": "code",
   "execution_count": null,
   "metadata": {
    "collapsed": true
   },
   "outputs": [],
   "source": [
    "import pandas as pd\n",
    "df = pd.read_csv('./data/gapminder_final.csv')"
   ]
  },
  {
   "cell_type": "markdown",
   "metadata": {},
   "source": [
    "* return the data frame from jupyter to view it (pretty)"
   ]
  },
  {
   "cell_type": "code",
   "execution_count": null,
   "metadata": {},
   "outputs": [],
   "source": [
    "df"
   ]
  },
  {
   "cell_type": "markdown",
   "metadata": {},
   "source": [
    "* What if we wanted to break up all the data into files for each continent?\n",
    "* What if we wanted to have only one row for each country?\n",
    "  * We would have to have columns for each year\n",
    "  \n",
    "** Don't worry about all of the code in the block below. By the end of this section it will make sense. **"
   ]
  },
  {
   "cell_type": "code",
   "execution_count": null,
   "metadata": {
    "collapsed": true
   },
   "outputs": [],
   "source": [
    "allcountries_df = pd.read_csv(\"./data/gapminder_final.csv\")\n",
    "df_t = allcountries_df\n",
    "\n",
    "years = sorted(list(df_t['year'].unique()))\n",
    "# Convert years to strings\n",
    "\n",
    "for year in years:\n",
    "    col_name = \"gdpPercap_\" + str(year)\n",
    "    df_t[col_name] = 0\n",
    "\n",
    "for y in years:\n",
    "    df_t.loc[df_t.year == y, \"gdpPercap_\" + str(y)] = df_t[\"gdpPercap\"]\n",
    "\n",
    "df_t = df_t.groupby(df_t[\"country\"]).max()\n",
    "df_t[\"pop2007\"] = df_t[\"pop\"]\n",
    "df_t[\"lifeExp2007\"] = df_t[\"lifeExp\"]\n",
    "\n",
    "df_t.drop(\"country\", axis=1, inplace=True)\n",
    "df_t.drop(\"gdpPercap\", axis=1, inplace=True)\n",
    "df_t.drop(\"year\", axis=1, inplace=True)\n",
    "df_t.drop(\"lifeExp\", axis=1, inplace=True)\n",
    "\n",
    "continents = df_t[\"continent\"].unique()\n",
    "\n",
    "df_t.to_csv(\"./data/gapminder_All.csv\")\n",
    "\n",
    "for continent in continents:\n",
    "    new_df = df_t.loc[df_t[\"continent\"] == continent]\n",
    "    newfilename = \"gapminder_\" + continent + \".csv\"\n",
    "    new_df.to_csv(\"./data/\" + newfilename)\n",
    "    \n",
    "    df.to_csv(\"./data/\")\n"
   ]
  },
  {
   "cell_type": "markdown",
   "metadata": {},
   "source": [
    "* Check out our data folder after we ran this script. We now have six additional csv files.\n",
    "    ~~~\n",
    "    * gapminder_All.csv\n",
    "    * gapminder_Oceana.csv\n",
    "    * gapminder_Europe.csv\n",
    "    * gapminder_Asia.csv\n",
    "    * gapminder_Americas.csv\n",
    "    * gapminder_Africa.csv\n",
    "    ~~~"
   ]
  },
  {
   "cell_type": "markdown",
   "metadata": {},
   "source": [
    "Lets read in the Africa csv to see how the structure has changed."
   ]
  },
  {
   "cell_type": "code",
   "execution_count": null,
   "metadata": {
    "collapsed": true
   },
   "outputs": [],
   "source": [
    "# Read in gapminder_Africa.csv as a data frame\n"
   ]
  },
  {
   "cell_type": "markdown",
   "metadata": {},
   "source": [
    "We can see that now there is only one row for each country. Lets re-read the file using the index_col parameter"
   ]
  },
  {
   "cell_type": "code",
   "execution_count": null,
   "metadata": {
    "collapsed": true
   },
   "outputs": [],
   "source": [
    "# Re-read the file using index_cols\n"
   ]
  },
  {
   "cell_type": "markdown",
   "metadata": {},
   "source": [
    "## Inspecting Data\n",
    "We've already see how we can get information about a dataframe using the `.info()` and `.describe()` functions, but there are many ways to get information and view a data frame"
   ]
  },
  {
   "cell_type": "markdown",
   "metadata": {},
   "source": [
    "* Can also use describe() on data frame selections (like a single column)"
   ]
  },
  {
   "cell_type": "code",
   "execution_count": null,
   "metadata": {
    "collapsed": true
   },
   "outputs": [],
   "source": [
    "# Use the .describe() function on the \"gdpPercap\" column\n"
   ]
  },
  {
   "cell_type": "markdown",
   "metadata": {},
   "source": [
    "* We can print the first or last x number of rows of our data frame using the head() and tails() functions."
   ]
  },
  {
   "cell_type": "code",
   "execution_count": null,
   "metadata": {
    "collapsed": true
   },
   "outputs": [],
   "source": [
    "# heads() function\n"
   ]
  },
  {
   "cell_type": "code",
   "execution_count": null,
   "metadata": {
    "collapsed": true
   },
   "outputs": [],
   "source": [
    "# tails() function\n"
   ]
  },
  {
   "cell_type": "markdown",
   "metadata": {},
   "source": [
    "* **Note:** head() and tail() default to 5 rows worth of data. We can also pass a value to either to get more or less rows.\n",
    "  * E.g.  \n",
    "  head(10)\n",
    "  \n",
    " ---\n",
    "  \n",
    "* Use `.dtypes` method to get the data type for each column"
   ]
  },
  {
   "cell_type": "code",
   "execution_count": null,
   "metadata": {
    "collapsed": true
   },
   "outputs": [],
   "source": [
    "# Write your code here\n"
   ]
  },
  {
   "cell_type": "markdown",
   "metadata": {},
   "source": [
    "* Use `shape` method to get the row and column numbers"
   ]
  },
  {
   "cell_type": "code",
   "execution_count": null,
   "metadata": {
    "collapsed": true
   },
   "outputs": [],
   "source": [
    "# Write your code here\n"
   ]
  },
  {
   "cell_type": "markdown",
   "metadata": {},
   "source": [
    "Here we can see the that the data have 52 rows of data and 18 attributes worth of information.\n",
    "\n",
    "* Use the `len()` function to get numbers of each individually"
   ]
  },
  {
   "cell_type": "code",
   "execution_count": null,
   "metadata": {
    "collapsed": true
   },
   "outputs": [],
   "source": [
    "# print number of rows of data\n"
   ]
  },
  {
   "cell_type": "code",
   "execution_count": null,
   "metadata": {
    "collapsed": true
   },
   "outputs": [],
   "source": [
    "# print number of columns of data\n"
   ]
  },
  {
   "cell_type": "markdown",
   "metadata": {},
   "source": [
    "* As seen before we can pass the data frame a column name to get all values for that column\n",
    "\n",
    "\n",
    "* Print out only the lifeExp2007 column from the data frame"
   ]
  },
  {
   "cell_type": "code",
   "execution_count": null,
   "metadata": {
    "collapsed": true
   },
   "outputs": [],
   "source": [
    "# Write your code here\n"
   ]
  },
  {
   "cell_type": "markdown",
   "metadata": {},
   "source": [
    "---\n",
    "## EXERCISE:\n",
    "1. How many different country names are there in the gapminder_all.csv file?\n",
    "\n",
    "---"
   ]
  },
  {
   "cell_type": "code",
   "execution_count": null,
   "metadata": {
    "collapsed": true
   },
   "outputs": [],
   "source": [
    "# Write your code here\n"
   ]
  },
  {
   "cell_type": "markdown",
   "metadata": {},
   "source": [
    "---\n",
    "## EXERCISE:\n",
    "1. What is the last country listed in the Africa data frame?\n",
    "\n",
    "---"
   ]
  },
  {
   "cell_type": "code",
   "execution_count": null,
   "metadata": {
    "collapsed": true
   },
   "outputs": [],
   "source": [
    "# Write your code here\n"
   ]
  },
  {
   "cell_type": "markdown",
   "metadata": {},
   "source": [
    "---\n",
    "## Get information about a particular column\n",
    "\n",
    "* Operations like mean, max, min, can be used on individual columns\n",
    "  * E.g. `df['year'].min()`"
   ]
  },
  {
   "cell_type": "code",
   "execution_count": null,
   "metadata": {
    "collapsed": true
   },
   "outputs": [],
   "source": [
    "# What is the minimum value in the year column?\n"
   ]
  },
  {
   "cell_type": "markdown",
   "metadata": {},
   "source": [
    "---\n",
    "## EXERCISE:\n",
    "1. What is the mean life expectancy in 2007 for all countries in all years\n",
    "\n",
    "1. What is the max population in 2007 for all countries in all years\n",
    "\n",
    "1. What is the standard deviation for GDP per capita for all countries in all years\n"
   ]
  },
  {
   "cell_type": "code",
   "execution_count": null,
   "metadata": {
    "collapsed": true
   },
   "outputs": [],
   "source": [
    "df = pd.read_csv(\"./data/gapminder_all.csv\")\n",
    "# Mean Life Expectancy in 2007\n",
    "\n",
    "# Max Population in 2007\n",
    "\n",
    "# Standard Deviation of GDP per capita in 1952\n"
   ]
  },
  {
   "cell_type": "markdown",
   "metadata": {},
   "source": [
    "## Rearange Columns\n",
    "\n",
    "* This is difficult to do using a csv library or by hand\n",
    "* The reverse() function will reverse the ordering of a list\n",
    "     * E.g.   `['a', 'b', 'c']` to `['c', 'b', 'a']`"
   ]
  },
  {
   "cell_type": "code",
   "execution_count": null,
   "metadata": {},
   "outputs": [],
   "source": [
    "# Use the python list() function to get the data frame columns a s list\n",
    "cols = list(df.columns)\n",
    "print( cols )\n",
    "\n",
    "# use the .reverse() function to reverse the ordering of the columns\n",
    "\n",
    "print ( cols )"
   ]
  },
  {
   "cell_type": "markdown",
   "metadata": {},
   "source": [
    "* Using that now reversed list above, we can pass the list to the new data frame to reorder the columns"
   ]
  },
  {
   "cell_type": "code",
   "execution_count": null,
   "metadata": {
    "collapsed": true
   },
   "outputs": [],
   "source": [
    "# Pass the cols variable to the data frame to re-arrange the columns\n"
   ]
  },
  {
   "cell_type": "markdown",
   "metadata": {},
   "source": [
    "## Transposing tables\n",
    "\n",
    "In many cases we may need to transpose the column and rows in a table.  Pandas allows us to to this easily with the `T` command.\n"
   ]
  },
  {
   "cell_type": "code",
   "execution_count": null,
   "metadata": {
    "collapsed": true,
    "scrolled": true
   },
   "outputs": [],
   "source": [
    "# Print first three rows of the data frame\n",
    "\n",
    "# Transpose the dataframe and print the first three rows\n"
   ]
  },
  {
   "cell_type": "markdown",
   "metadata": {},
   "source": [
    "---\n",
    "## EXERCISE:\n",
    "1. Read in a new data frame for the gapminder_Americas.csv file\n",
    "2. Print the last last three columns of the data frame"
   ]
  },
  {
   "cell_type": "code",
   "execution_count": null,
   "metadata": {
    "collapsed": true
   },
   "outputs": [],
   "source": []
  },
  {
   "cell_type": "markdown",
   "metadata": {},
   "source": [
    "---\n",
    "## Selecting values\n",
    "\n",
    "Data Frames provides a index as a way to identify the rows of the table. A row also has a position inside the table as well as a label, which uniquely identifies its entry in the DataFrame.\n",
    "\n",
    "To access a value at the position [ i , j ] (row, column) of a Data Frame, we have two options, depending on what is the meaning of i in use."
   ]
  },
  {
   "cell_type": "markdown",
   "metadata": {},
   "source": [
    "### Use DataFrame.iloc[..., ...] to select values by their position\n",
    "* Allows you to specify location by numerical index similar to 2D version of character selection in strings.\n"
   ]
  },
  {
   "cell_type": "code",
   "execution_count": null,
   "metadata": {},
   "outputs": [],
   "source": [
    "print(\"\\nData value in first row at first column: \", df.iloc[0, 0])"
   ]
  },
  {
   "cell_type": "code",
   "execution_count": null,
   "metadata": {},
   "outputs": [],
   "source": [
    "print(\"\\nData value in fifth row at third column: \", df.iloc[4, 2])"
   ]
  },
  {
   "cell_type": "markdown",
   "metadata": {},
   "source": [
    "### Use `DataFrame.loc[..., ...]` to select values by their (index) label.\n",
    "\n",
    "*   Can specify location by name or by numerical index."
   ]
  },
  {
   "cell_type": "code",
   "execution_count": null,
   "metadata": {
    "collapsed": true
   },
   "outputs": [],
   "source": [
    "# Print the value of Albanias GDP per capita in 1952 using .loc\n"
   ]
  },
  {
   "cell_type": "code",
   "execution_count": null,
   "metadata": {
    "collapsed": true
   },
   "outputs": [],
   "source": [
    "# Print the value of Bulgarias GDP per capita in 1962 using .loc\n"
   ]
  },
  {
   "cell_type": "markdown",
   "metadata": {},
   "source": [
    "---\n",
    "## EXERCISE\n",
    "~~~\n",
    "import pandas\n",
    "df = pandas.read_csv('data/gapminder_Europe.csv', index_col='country')\n",
    "~~~\n",
    "\n",
    "1. Find the Per Capita GDP for Serbia in 2007.\n",
    "1. Find the Per Capita GDPs for Germany in 1982"
   ]
  },
  {
   "cell_type": "code",
   "execution_count": null,
   "metadata": {
    "collapsed": true
   },
   "outputs": [],
   "source": [
    "# Write your code here\n"
   ]
  },
  {
   "cell_type": "markdown",
   "metadata": {},
   "source": [
    "---\n",
    "## Slicing Data Frames\n",
    "\n",
    "### Use `:` on its own to mean all columns or all rows.\n",
    "\n",
    "*   Just like Python's usual slicing notation, we can print all columns or all rows with `.loc` using the `:`"
   ]
  },
  {
   "cell_type": "code",
   "execution_count": null,
   "metadata": {},
   "outputs": [],
   "source": [
    "# Print all of the row values for all years for Egypt\n"
   ]
  },
  {
   "cell_type": "markdown",
   "metadata": {},
   "source": [
    "* Would get the same result printing `df.iloc[0]` (without a second index).\n",
    "* We can also omit the `:` and get all rows.\n",
    "    * e.g. `df.loc[\"Albania\"]`"
   ]
  },
  {
   "cell_type": "code",
   "execution_count": null,
   "metadata": {
    "collapsed": true
   },
   "outputs": [],
   "source": [
    "# Print the GDP per capita for all countries in 1952\n"
   ]
  },
  {
   "cell_type": "markdown",
   "metadata": {},
   "source": [
    "*   Would get the same result printing `df[\"gdpPercap_1952\"]`\n",
    "*   Also get the same result printing `df.gdpPercap_1952` (since it's a column name)"
   ]
  },
  {
   "cell_type": "markdown",
   "metadata": {},
   "source": [
    "---\n",
    "## EXERCISE:\n",
    "1. Print out GDP per capita for all countries in asia in 1972\n",
    "\n"
   ]
  },
  {
   "cell_type": "code",
   "execution_count": null,
   "metadata": {
    "collapsed": true
   },
   "outputs": [],
   "source": [
    "# Write your code here\n"
   ]
  },
  {
   "cell_type": "markdown",
   "metadata": {},
   "source": [
    "---\n",
    "### We can also use the `:` to select whole sections of a table \n",
    "* Similar to the way we would select a section of from a normal python list, we can do the same with data frames."
   ]
  },
  {
   "cell_type": "code",
   "execution_count": null,
   "metadata": {
    "collapsed": true
   },
   "outputs": [],
   "source": [
    "# Print a selection of all countries in the table from Italy to Poland from years 1962 to 1972\n"
   ]
  },
  {
   "cell_type": "markdown",
   "metadata": {},
   "source": [
    "Note that in Pandas **slicing using indexes is inclusive at both ends**, which differs from typical python behavior where slicing indicates everything up to but not including the final index."
   ]
  },
  {
   "cell_type": "markdown",
   "metadata": {},
   "source": [
    "### Select multiple columns or rows using `DataFrame.iloc` and a named slice.\n",
    "* We can also make selection from a data frame using the index location of the row or column\n",
    "    * Remember that in programming languages, we start counting at 0"
   ]
  },
  {
   "cell_type": "code",
   "execution_count": null,
   "metadata": {},
   "outputs": [],
   "source": [
    "#Print the first row of the data frame using the .head() function\n",
    "print(\"First row of data frame:\\n\",  )\n",
    "\n",
    "# Use iloc to print the value in the first row of the first column\n",
    "print(\"\\n\\nValue in the first row of the first column:\\n\",  )\n",
    "\n",
    "# Use iloc to print the values of the first two columns in the first row\n",
    "print(\"Values in the first two columes in the first row:\\n\",  )"
   ]
  },
  {
   "cell_type": "markdown",
   "metadata": {},
   "source": [
    "* **Note that unlike slicing using column or row names, slicing using indexes is not inclusive** "
   ]
  },
  {
   "cell_type": "markdown",
   "metadata": {},
   "source": [
    "---\n",
    "## EXERCISE:\n",
    "1. Print out all values from Hungary through Montenegro (Europe data) for the years 1977 through 1997"
   ]
  },
  {
   "cell_type": "code",
   "execution_count": null,
   "metadata": {
    "collapsed": true
   },
   "outputs": [],
   "source": [
    "# Write code here\n"
   ]
  },
  {
   "cell_type": "markdown",
   "metadata": {},
   "source": [
    "---\n",
    "## EXERCISE:\n",
    "1.  Do the two statements below produce the same output?\n",
    "    ~~~\n",
    "    print(df.iloc[0:2, 0:2])\n",
    "    print(df.loc['Albania':'Belgium', 'gdpPercap_1952':'gdpPercap_1962'])\n",
    "    ~~~\n",
    "\n",
    "1.  Based on this,what rule governs what is included (or not) in numerical slices and named slices in Pandas?\n"
   ]
  },
  {
   "cell_type": "code",
   "execution_count": null,
   "metadata": {
    "collapsed": true
   },
   "outputs": [],
   "source": []
  },
  {
   "cell_type": "markdown",
   "metadata": {},
   "source": [
    "---\n",
    "### Slicing individual rows and columns\n",
    "* Instead of creating slices of *this* to *that* using the `:`, we can also slice using individual rows and columns by placing names or indexes in brackets `[]`."
   ]
  },
  {
   "cell_type": "code",
   "execution_count": null,
   "metadata": {
    "collapsed": true
   },
   "outputs": [],
   "source": [
    "# Print out the GDP per capita of only Italy, Austria, and the United Kingdom in the years 2007 and 1957\n"
   ]
  },
  {
   "cell_type": "markdown",
   "metadata": {},
   "source": [
    "---\n",
    "## EXERCISE:\n",
    "1. Using the index locations, `print` out the first, third, and eight columns for the sixteenth through nineteenth rows."
   ]
  },
  {
   "cell_type": "code",
   "execution_count": null,
   "metadata": {
    "collapsed": true
   },
   "outputs": [],
   "source": []
  },
  {
   "cell_type": "markdown",
   "metadata": {},
   "source": [
    "---\n",
    "## Result of slicing can be used in further operations."
   ]
  },
  {
   "cell_type": "code",
   "execution_count": null,
   "metadata": {
    "collapsed": true
   },
   "outputs": [],
   "source": [
    "# Print out the max value (.max()) of ALL countries from Italy to Poland for 1962 to 1972\n"
   ]
  },
  {
   "cell_type": "code",
   "execution_count": null,
   "metadata": {
    "collapsed": true
   },
   "outputs": [],
   "source": [
    "# Print out the min value (.min()) of ALL countries from Italy to Poland for 1962 to 1972\n"
   ]
  },
  {
   "cell_type": "markdown",
   "metadata": {},
   "source": [
    "*   Usually don't just print a slice.\n",
    "*   All the statistical operators that work on entire data frames work the same way on slices."
   ]
  },
  {
   "cell_type": "markdown",
   "metadata": {},
   "source": [
    "## Create data frame from selections\n",
    "\n",
    "* We can create new data frame by selecting data frames based on values and assigining it to a variable"
   ]
  },
  {
   "cell_type": "code",
   "execution_count": null,
   "metadata": {
    "collapsed": true
   },
   "outputs": [],
   "source": [
    "# Create a selection of ALL countries from Italy to Poland for 1962 to 1972 and \n",
    "#  assign the selection to a variable name \"subset_df\"\n",
    "\n",
    "print('Subset of data:\\n', subset_df)"
   ]
  },
  {
   "cell_type": "markdown",
   "metadata": {},
   "source": [
    "## Create DataFrame using query\n",
    "* We can query values in a data frame to create new selections\n",
    "* By passing a dataframe query to itself, we can create a new dataframe with only those values"
   ]
  },
  {
   "cell_type": "code",
   "execution_count": null,
   "metadata": {
    "collapsed": true
   },
   "outputs": [],
   "source": [
    "# Create a query for the \"gdpPerCap_1962\" series in out subset_df data frame for all values greater than 10000\n",
    "\n",
    "# Create a new data frame called subset_10k_df by passing that query to the subset_df data frame\n",
    "\n",
    "\n",
    "print(query_10k)\n",
    "print(subset_10k_df)\n",
    "print(subset_10k_df.shape)"
   ]
  },
  {
   "cell_type": "markdown",
   "metadata": {},
   "source": [
    "---\n",
    "## EXERCISE:\n",
    "\n",
    "* Create three data frames and get the size of each one.\n",
    "    1. Countries with a gdp per capita in 1952 above 10000\n",
    "    1. Countries with a gdp per capita in 1962 above 10000\n",
    "    1. Countries with a gdp per capita in 1972 above 10000\n",
    "\n",
    "---"
   ]
  },
  {
   "cell_type": "code",
   "execution_count": null,
   "metadata": {
    "collapsed": true
   },
   "outputs": [],
   "source": []
  },
  {
   "cell_type": "markdown",
   "metadata": {},
   "source": [
    "## Filter a DataFrame using a Boolean mask\n",
    "\n",
    "* A frame full of Booleans is sometimes called a *mask* because of how it can be used\n",
    "* Comparison is applied element by element\n",
    "* Returns a similarly-shaped data frame of `True` and `False`"
   ]
  },
  {
   "cell_type": "code",
   "execution_count": null,
   "metadata": {
    "collapsed": true,
    "scrolled": true
   },
   "outputs": [],
   "source": [
    "# Create a full data frame mask for subset_df with a query for all values in all years greater than 10000\n",
    "mask_10k = \n",
    "\n",
    "print( mask_10k )"
   ]
  },
  {
   "cell_type": "markdown",
   "metadata": {},
   "source": [
    "* We can use masks to filter an entire dataframe with a single query\n",
    "    * More efficient than using a single query on multiple columns"
   ]
  },
  {
   "cell_type": "code",
   "execution_count": null,
   "metadata": {
    "collapsed": true
   },
   "outputs": [],
   "source": [
    "# Pass the mask query to subset_df to create a new data frame mask_subset\n",
    "mask_subset = \n",
    "\n",
    "print(mask_subset)\n",
    "print(\"Shape: \", mask_subset.shape)"
   ]
  },
  {
   "cell_type": "markdown",
   "metadata": {},
   "source": [
    "*   Returns the value where the mask is true, and NaN (Not a Number) where it is false.\n",
    "*   Useful because NaNs are ignored by operations like max, min, average, etc.\n",
    "\n",
    "\n",
    "* If we wanted to remove all rows with a NaN value in any column we could use the `.dropna()` function"
   ]
  },
  {
   "cell_type": "code",
   "execution_count": null,
   "metadata": {
    "collapsed": true
   },
   "outputs": [],
   "source": [
    "# Print the mask_subset data frame with all rows with a single NaN value removed\n",
    "\n",
    "\n",
    "# Print the shape of the mask_subset data frame with all rows with an NaN values removed\n"
   ]
  },
  {
   "cell_type": "markdown",
   "metadata": {},
   "source": [
    "## Create new columns\n",
    "\n",
    "* We can easily create new columns in the same way we would add a key and value to a dictionary"
   ]
  },
  {
   "cell_type": "code",
   "execution_count": null,
   "metadata": {
    "collapsed": true
   },
   "outputs": [],
   "source": [
    "# Create a new column in data frame called diff_07_52 that is the difference between gdp per capita from 1952 to 2007\n",
    "\n",
    "\n",
    "print(df.head(1))"
   ]
  },
  {
   "cell_type": "markdown",
   "metadata": {},
   "source": [
    "---\n",
    "## EtherPad\n",
    "\n",
    "On EtherPad explain what the follow expression does:\n",
    "\n",
    "    only_Am = df[df['continent'] == 'Americas']\n",
    "\n",
    "___"
   ]
  },
  {
   "cell_type": "markdown",
   "metadata": {},
   "source": [
    "## EXERCISE:\n",
    "1. Explain in simple terms what `idxmin` and `idxmax` do in the short program below.\n",
    "    ~~~\n",
    "    df = pd.read_csv('data/gapminder_gdp_europe.csv', index_col='country')\n",
    "    print(df.idxmin())\n",
    "    print(df.idymax())\n",
    "    ~~~\n",
    "\n",
    "2. When would you use these methods?"
   ]
  },
  {
   "cell_type": "code",
   "execution_count": null,
   "metadata": {
    "collapsed": true
   },
   "outputs": [],
   "source": []
  },
  {
   "cell_type": "markdown",
   "metadata": {},
   "source": [
    "---\n",
    "## PRACTICE EXERCISE.\n",
    "Using the Gapminder GDP data for Europe, write an expression to select each of the following:\n",
    "1.  GDP per capita for all countries in 1982.\n",
    "1.  GDP per capita for Denmark for all years.\n",
    "1.  GDP per capita for all countries for years *after* 1985.\n",
    "1.  GDP per capita for each country in 2007 as a multiple of GDP per capita for that country in 1952.\n",
    "---"
   ]
  },
  {
   "cell_type": "markdown",
   "metadata": {},
   "source": [
    "# -- COMMIT YOUR WORK TO GITHUB --"
   ]
  },
  {
   "cell_type": "markdown",
   "metadata": {},
   "source": [
    "---\n",
    "## Keypoints:\n",
    " - \"Use `DataFrame.iloc[..., ...]` to select values by index location.\"\n",
    " - \"Use `:` on its own to mean all columns or all rows.\"\n",
    " - \"Select multiple columns or rows using `DataFrame.ix` and a named slice.\"\n",
    " - \"Result of slicing can be used in further operations.\"\n",
    " - \"Use comparisons to select data based on value.\"\n",
    " - \"Select values or NaN using a Boolean mask.\""
   ]
  }
 ],
 "metadata": {
  "anaconda-cloud": {},
  "kernelspec": {
   "display_name": "Python 3",
   "language": "python",
   "name": "python3"
  },
  "language_info": {
   "codemirror_mode": {
    "name": "ipython",
    "version": 3
   },
   "file_extension": ".py",
   "mimetype": "text/x-python",
   "name": "python",
   "nbconvert_exporter": "python",
   "pygments_lexer": "ipython3",
   "version": "3.6.2"
  }
 },
 "nbformat": 4,
 "nbformat_minor": 2
}
