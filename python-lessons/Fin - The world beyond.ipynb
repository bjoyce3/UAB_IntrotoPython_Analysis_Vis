{
 "cells": [
  {
   "cell_type": "markdown",
   "metadata": {},
   "source": [
    "Next Steps\n",
    "===\n",
    "Leslie Lamport once said, \"Writing is nature's way of showing you how sloppy your thinking is.\"\n",
    "The same is true of programming: many things that seem obvious when we're thinking about them turn out to be anything but when we have to explain them precisely.\n",
    "\n",
    "## Python supports a large community within and outwith research.\n",
    "\n",
    "*   The [Python 3 documentation](https://docs.python.org/3/) covers the core language\n",
    "    and the standard library.\n",
    "\n",
    "*   [SciPy](scipy.org) is a rich collection of scientific utilities.\n",
    "\n",
    "*   [Jupyter](jupyter.org) is the home of the Jupyter Notebook.\n",
    "\n",
    "*   [Pandas](pandas.pydata.org) is the home of the Pandas data library.\n",
    "\n",
    "*   Stack Overflow's [general Python section](http://stackoverflow.com/questions/tagged/python)\n",
    "    can be helpful,\n",
    "    as can the sections on [NumPy](http://stackoverflow.com/questions/tagged/numpy),\n",
    "    [SciPy](http://stackoverflow.com/questions/tagged/scipy),\n",
    "    [Pandas](http://stackoverflow.com/questions/tagged/pandas),\n",
    "    and other topics."
   ]
  }
 ],
 "metadata": {
  "kernelspec": {
   "display_name": "Python 3",
   "language": "python",
   "name": "python3"
  },
  "language_info": {
   "codemirror_mode": {
    "name": "ipython",
    "version": 3
   },
   "file_extension": ".py",
   "mimetype": "text/x-python",
   "name": "python",
   "nbconvert_exporter": "python",
   "pygments_lexer": "ipython3",
   "version": "3.6.1"
  }
 },
 "nbformat": 4,
 "nbformat_minor": 2
}
