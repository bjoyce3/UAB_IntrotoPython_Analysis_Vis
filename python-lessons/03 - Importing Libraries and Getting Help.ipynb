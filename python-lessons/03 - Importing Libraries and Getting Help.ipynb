{
 "cells": [
  {
   "cell_type": "markdown",
   "metadata": {},
   "source": [
    "Importing Libraries and Getting Help\n",
    "===\n",
    "------"
   ]
  },
  {
   "cell_type": "markdown",
   "metadata": {},
   "source": [
    "## Most of the power of a programming language is in its libraries.\n",
    "\n",
    "* A *library* is a collection of specialized functions that can be used in analysis.\n",
    "    * E.g. the \"math\" Library has functions like `log` that can compute logarithms\n",
    "    \n",
    "    \n",
    "* Many additional libraries are available that for a whole variety of applications.\n",
    "\n",
    "\n",
    "## To use a library, you have to import it at the beginning of your script\n",
    "\n",
    "*   Use `import` to load a library into a script.\n",
    "*   * Function and values from the Library can be called with a \"`.`\"\n",
    "    * Python uses \"`.`\" to mean \"part of\".\n",
    "    "
   ]
  },
  {
   "cell_type": "code",
   "execution_count": null,
   "metadata": {},
   "outputs": [],
   "source": [
    "import math\n",
    "\n",
    "print('pi is', math.pi)  # pi is a number available from the math library\n",
    "print('cos(pi) is', math.cos(math.pi))  # cos() is a function from the math library"
   ]
  },
  {
   "cell_type": "markdown",
   "metadata": {},
   "source": [
    "## Import specific items from a library to shorten programs.\n",
    "\n",
    "*   Use `from...import...` to load only specific items from a library.\n",
    "*   Then refer to them directly without library name as prefix."
   ]
  },
  {
   "cell_type": "code",
   "execution_count": null,
   "metadata": {},
   "outputs": [],
   "source": [
    "from math import pi, cos\n",
    "\n",
    "print('pi is', pi)\n",
    "print('cos(pi) is', cos(pi))"
   ]
  },
  {
   "cell_type": "markdown",
   "metadata": {},
   "source": [
    "From the `os` library, import the path class"
   ]
  },
  {
   "cell_type": "code",
   "execution_count": null,
   "metadata": {
    "collapsed": true
   },
   "outputs": [],
   "source": []
  },
  {
   "cell_type": "markdown",
   "metadata": {},
   "source": [
    "## Create an alias for a library when importing it to shorten programs.\n",
    "\n",
    "*   Use `import...as...` to give a library a short *alias* while importing it.\n",
    "*   Then refer to items in the library using that shortened name."
   ]
  },
  {
   "cell_type": "code",
   "execution_count": null,
   "metadata": {},
   "outputs": [],
   "source": [
    "import math as m\n",
    "\n",
    "print('cos(pi) is', m.cos(m.pi))"
   ]
  },
  {
   "cell_type": "markdown",
   "metadata": {},
   "source": [
    "*   Commonly used for libraries that are frequently used or have long names.\n",
    "    *   E.g., `matplotlib` plotting library is often aliased as `mpl`.\n",
    "*   But can make programs harder to understand,\n",
    "    since readers must learn your program's aliases."
   ]
  },
  {
   "cell_type": "markdown",
   "metadata": {},
   "source": [
    "---\n",
    "## EXERCISE:\n",
    "Given the following section of code...\n",
    "    ~~~\n",
    "        import math as m\n",
    "        angle = ____.degrees(____.pi / 2)\n",
    "        print(____)\n",
    "    ~~~\n",
    "1. Fill in the blanks so that the program below prints `90.0`.\n",
    "2. Rewrite the program so that it uses `import` *without* `as`.\n",
    "3. Which form do you find easier to read?\n",
    "\n",
    "---"
   ]
  },
  {
   "cell_type": "code",
   "execution_count": null,
   "metadata": {
    "collapsed": true
   },
   "outputs": [],
   "source": []
  },
  {
   "cell_type": "markdown",
   "metadata": {},
   "source": [
    "## Use `help` to find out more about a library's contents.\n",
    "\n",
    "*   Works just like help for a function."
   ]
  },
  {
   "cell_type": "code",
   "execution_count": null,
   "metadata": {},
   "outputs": [],
   "source": [
    "help(math)"
   ]
  },
  {
   "cell_type": "markdown",
   "metadata": {},
   "source": [
    "---\n",
    "## EXERCISE:\n",
    "When a colleague of yours types `help(math)`,\n",
    "Python reports an error:\n",
    "~~~\n",
    "NameError: name 'math' is not defined\n",
    "~~~\n",
    " 1. What has your colleague forgotten to do?"
   ]
  },
  {
   "cell_type": "code",
   "execution_count": null,
   "metadata": {
    "collapsed": true
   },
   "outputs": [],
   "source": []
  },
  {
   "cell_type": "markdown",
   "metadata": {},
   "source": [
    "---\n",
    "## EXERCISE:\n",
    "1. What function from the `math` library can you use to calculate a square root?\n",
    "\n",
    "---"
   ]
  },
  {
   "cell_type": "code",
   "execution_count": null,
   "metadata": {
    "collapsed": true
   },
   "outputs": [],
   "source": []
  },
  {
   "cell_type": "markdown",
   "metadata": {},
   "source": [
    "## Add documentation to your own code\n",
    "\n",
    "You can document your own code to help make it useable and readable by other people.\n",
    "\n",
    "We've been use `#` to add comments to specific lines in our code, but it's also easy to document your functions to make them available to pythons `help`\n",
    "\n",
    "Immediately after defining the function add a documenation block with triple-quotes: either single (`'''`) or double (`\"\"\"`)"
   ]
  },
  {
   "cell_type": "code",
   "execution_count": null,
   "metadata": {},
   "outputs": [],
   "source": [
    "# An adding function\n",
    "def adding_fifty(num):\n",
    "    \"\"\"\n",
    "    This is function takes a given number and adds 50 to it.\n",
    "    \"\"\"\n",
    "    return num + 50\n",
    "\n",
    "\n",
    "help(adding_fifty)"
   ]
  },
  {
   "cell_type": "markdown",
   "metadata": {},
   "source": [
    "---\n",
    "## EXERCISE:\n",
    "You want to select a random value from your data:\n",
    "~~~\n",
    "ids = [1, 2, 3, 4, 5, 6]\n",
    "~~~\n",
    "1. What standard library would you most expect to help?\n",
    "2. Which function would you select from that library?\n",
    "\n",
    "---"
   ]
  },
  {
   "cell_type": "code",
   "execution_count": null,
   "metadata": {
    "collapsed": true
   },
   "outputs": [],
   "source": []
  },
  {
   "cell_type": "markdown",
   "metadata": {},
   "source": [
    "---\n",
    "## EXERCISE:\n",
    "Jigsaw Puzzle (Parson’s Problem) Programming Example:\n",
    "\n",
    "Rearrange the following statements so that a random DNA base is printed. Not all statements may be needed. Feel free to use/add intermediate variables.\n",
    "~~~\n",
    "dna = \"ACTG\"\n",
    "length = 10\n",
    "print(bases)\n",
    "      bases += random.choice(dna)\n",
    "for count in range(length):\n",
    "        \n",
    "bases = \"\"\n",
    "import random\n",
    "~~~"
   ]
  },
  {
   "cell_type": "code",
   "execution_count": null,
   "metadata": {
    "collapsed": true
   },
   "outputs": [],
   "source": []
  },
  {
   "cell_type": "markdown",
   "metadata": {},
   "source": []
  },
  {
   "cell_type": "markdown",
   "metadata": {},
   "source": [
    "---\n",
    "## Key Points\n",
    " * Most of the power of a programming language is in its libraries.\n",
    " * A program must import a library module in order to use it.\n",
    " * Use help to learn about the contents of a library module.\n",
    " * Import specific items from a library to shorten programs.\n",
    " * Create an alias for a library when importing it to shorten programs."
   ]
  }
 ],
 "metadata": {
  "anaconda-cloud": {},
  "kernelspec": {
   "display_name": "Python 3",
   "language": "python",
   "name": "python3"
  },
  "language_info": {
   "codemirror_mode": {
    "name": "ipython",
    "version": 3
   },
   "file_extension": ".py",
   "mimetype": "text/x-python",
   "name": "python",
   "nbconvert_exporter": "python",
   "pygments_lexer": "ipython3",
   "version": "3.7.3"
  }
 },
 "nbformat": 4,
 "nbformat_minor": 2
}
